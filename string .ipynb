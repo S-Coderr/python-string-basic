{
 "cells": [
  {
   "cell_type": "markdown",
   "id": "324a202d-ef9f-41a6-9698-e7c33a948f08",
   "metadata": {},
   "source": [
    "1. How do you concatenate two strings in Python?"
   ]
  },
  {
   "cell_type": "code",
   "execution_count": 1,
   "id": "75a23c57-6832-4897-a334-d955a24555ea",
   "metadata": {},
   "outputs": [
    {
     "name": "stdout",
     "output_type": "stream",
     "text": [
      "Saurav kumar\n"
     ]
    }
   ],
   "source": [
    "#lets concatenate using '+' operator\n",
    "firstName = \"Saurav\"\n",
    "secondName = \" kumar\"\n",
    "myName = firstName + secondName\n",
    "print(myName)"
   ]
  },
  {
   "cell_type": "markdown",
   "id": "1b5ce089-5ea0-4fa4-baa3-5408260bc0a0",
   "metadata": {},
   "source": [
    "2. What is the difference between the + operator and the join() method for\n",
    "concatenating strings?"
   ]
  },
  {
   "cell_type": "code",
   "execution_count": 9,
   "id": "2d99b7dc-f832-474d-8c9d-55108c94ca7f",
   "metadata": {},
   "outputs": [
    {
     "name": "stdout",
     "output_type": "stream",
     "text": [
      "Hellosaurav\n"
     ]
    }
   ],
   "source": [
    "#let concatenate using '+' operator\n",
    "str1 = \"Hello\"\n",
    "str2 = \"saurav\"\n",
    "result = str1 + str2\n",
    "print(result) "
   ]
  },
  {
   "cell_type": "code",
   "execution_count": 11,
   "id": "770f739f-ac14-4074-8436-f91bcdadd062",
   "metadata": {},
   "outputs": [
    {
     "name": "stdout",
     "output_type": "stream",
     "text": [
      "Hellosaurav\n"
     ]
    }
   ],
   "source": [
    "# join() method is used to concatenate a sequence of string \n",
    "str = [\"Hello\"\"saurav\"]\n",
    "result = \"  \".join(str)\n",
    "print(result)"
   ]
  },
  {
   "cell_type": "raw",
   "id": "fae65586-0077-4720-bdf2-b7ba0a766f73",
   "metadata": {},
   "source": [
    "3. How do you access individual characters in a string?"
   ]
  },
  {
   "cell_type": "code",
   "execution_count": 12,
   "id": "d2bd1f88-a3b5-4874-9a21-be84b3690f28",
   "metadata": {},
   "outputs": [
    {
     "name": "stdout",
     "output_type": "stream",
     "text": [
      "m\n",
      "e\n",
      "a\n"
     ]
    }
   ],
   "source": [
    "str =('mynameissauravkumar')\n",
    "print(str[0])\n",
    "print(str[5])\n",
    "print(str[3])"
   ]
  },
  {
   "cell_type": "markdown",
   "id": "ae8c5d03-cda7-4bdf-be9e-e95dd31f234c",
   "metadata": {},
   "source": [
    "4. What method is used to find the length of a string in Python?"
   ]
  },
  {
   "cell_type": "code",
   "execution_count": 14,
   "id": "0409a6f5-44c4-4c63-98db-74754ba62099",
   "metadata": {},
   "outputs": [
    {
     "name": "stdout",
     "output_type": "stream",
     "text": [
      "41\n"
     ]
    }
   ],
   "source": [
    "#len() method used to find the length of string in python \n",
    "string = \"Hey!! i am sauravkumar form ducat student\"\n",
    "print(len(string))"
   ]
  },
  {
   "cell_type": "markdown",
   "id": "2939f5c6-8cac-4632-be97-abba18591327",
   "metadata": {},
   "source": [
    "5. How can you convert a string to uppercase in Python?"
   ]
  },
  {
   "cell_type": "code",
   "execution_count": 18,
   "id": "6ff85c98-217b-4bef-9eb7-c15a12db2588",
   "metadata": {},
   "outputs": [
    {
     "name": "stdout",
     "output_type": "stream",
     "text": [
      "DUCATTRANINGSCHOOL\n"
     ]
    }
   ],
   "source": [
    "str=(\"ducattraningschool\")\n",
    "name=str.upper()\n",
    "print(name)"
   ]
  },
  {
   "cell_type": "markdown",
   "id": "76b405bf-e22a-46bc-a364-6c59201923db",
   "metadata": {},
   "source": [
    "6. How can you convert a string to lowercase in Python?"
   ]
  },
  {
   "cell_type": "code",
   "execution_count": 20,
   "id": "5da617db-cf5f-4bd7-9884-71d909965ba5",
   "metadata": {},
   "outputs": [
    {
     "name": "stdout",
     "output_type": "stream",
     "text": [
      "my name is sauravkumar\n"
     ]
    }
   ],
   "source": [
    "name=(\"MY NAME IS SAURAVKUMAR\")\n",
    "str=name.lower()\n",
    "print(str)"
   ]
  },
  {
   "cell_type": "markdown",
   "id": "78df751a-a0db-4a06-8308-bde8c7b69403",
   "metadata": {},
   "source": [
    "7. What method is used to replace substrings within a string?"
   ]
  },
  {
   "cell_type": "code",
   "execution_count": 21,
   "id": "abf8e8ae-89ab-4834-b417-ebb359b97d14",
   "metadata": {},
   "outputs": [
    {
     "name": "stdout",
     "output_type": "stream",
     "text": [
      "Hello Guys!! How are you..I'm learrning in ducat\n"
     ]
    }
   ],
   "source": [
    "var=( \"Hello Guys!! How are you..I'm learrning string fuction in python\")\n",
    "str=var.replace(\"string fuction in python\",\"in ducat\")\n",
    "print(str)"
   ]
  },
  {
   "cell_type": "markdown",
   "id": "aea41eb2-953d-4892-999f-588ad7b3d060",
   "metadata": {},
   "source": [
    "8. How can you split a string into a list of substrings based on a delimiter?"
   ]
  },
  {
   "cell_type": "code",
   "execution_count": 22,
   "id": "c395e603-20e6-47f0-8086-4a17578042fb",
   "metadata": {},
   "outputs": [
    {
     "name": "stdout",
     "output_type": "stream",
     "text": [
      "['python', 'C', 'C++', 'Java', 'css']\n"
     ]
    }
   ],
   "source": [
    "#Python String split() method splits a string into a list of strings after breaking the given string by the specified separator.\n",
    "\n",
    "var1 = \"python C C++ Java css \"\n",
    "name= var1.split()\n",
    "\n",
    "print(name)"
   ]
  },
  {
   "cell_type": "markdown",
   "id": "3538af60-6111-48ff-91cc-ada4cb2fc352",
   "metadata": {},
   "source": [
    "9. How do you check if a string starts with a particular substring?"
   ]
  },
  {
   "cell_type": "code",
   "execution_count": 27,
   "id": "763a3e0a-a74a-40c9-90a1-070e8a48436d",
   "metadata": {},
   "outputs": [
    {
     "name": "stdout",
     "output_type": "stream",
     "text": [
      "False\n",
      "True\n"
     ]
    }
   ],
   "source": [
    "\n",
    "#string.startwith() method used to check that that a string strat with a particular substring\n",
    "var1 = \"My name is saurav kuamr\"\n",
    "\n",
    "print(var1.startswith(\"saurav\"))\n",
    "print(var1.startswith(\"My\"))"
   ]
  },
  {
   "cell_type": "markdown",
   "id": "8b6e325e-dbb8-40c5-8d69-49b728590e53",
   "metadata": {},
   "source": [
    "10. How do you check if a string ends with a particular substring?"
   ]
  },
  {
   "cell_type": "code",
   "execution_count": 32,
   "id": "b25d7483-09e9-48d2-8a68-828a4e62edd8",
   "metadata": {},
   "outputs": [
    {
     "name": "stdout",
     "output_type": "stream",
     "text": [
      "True\n",
      "False\n"
     ]
    }
   ],
   "source": [
    "#string.endswith() method used to check that that a string end with a particular substring\n",
    "var1 = \"My Name is saurav kumar\"\n",
    "print(var1.endswith(\"kumar\"))\n",
    "print( var1.endswith(\"singh\"))"
   ]
  },
  {
   "cell_type": "markdown",
   "id": "e7d571bd-7583-4edd-a76c-1d8863511f93",
   "metadata": {},
   "source": [
    "11. How can you remove leading and trailing whitespace from a string?"
   ]
  },
  {
   "cell_type": "code",
   "execution_count": 35,
   "id": "fac7f61c-292a-4728-8586-82e210392dea",
   "metadata": {},
   "outputs": [
    {
     "name": "stdout",
     "output_type": "stream",
     "text": [
      "MY NAME IS SAURAV KUAMR\n"
     ]
    }
   ],
   "source": [
    "#string.strip() method used to remove trailing and leading whitespace\n",
    "var=(\" MY NAME IS SAURAV KUAMR \")\n",
    "string= var.strip()\n",
    "print(string)"
   ]
  },
  {
   "cell_type": "markdown",
   "id": "01bad735-1be1-4795-9ee0-f41e2725417f",
   "metadata": {},
   "source": [
    "12. What method is used to find the index of the first occurrence of a substring within a\n",
    "string?"
   ]
  },
  {
   "cell_type": "code",
   "execution_count": 36,
   "id": "bb2ffc6b-23a1-4ffa-97b3-fe935301984e",
   "metadata": {},
   "outputs": [
    {
     "name": "stdout",
     "output_type": "stream",
     "text": [
      "11\n"
     ]
    }
   ],
   "source": [
    "#string find() method is used to find the lowest index or the first occurance of the substring within the string.\n",
    "\n",
    "var = \"Hey !! I'm saurav.\"\n",
    "string  = var.find(\"saurav\")\n",
    "print(string)\n"
   ]
  },
  {
   "cell_type": "markdown",
   "id": "ab29d3f3-b8eb-410b-8c35-5ba1376e86bb",
   "metadata": {},
   "source": [
    "13. How can you count the number of occurrences of a substring within a string?"
   ]
  },
  {
   "cell_type": "code",
   "execution_count": 39,
   "id": "b3056b09-bd1e-4a97-a018-69fcc2fe140c",
   "metadata": {},
   "outputs": [
    {
     "name": "stdout",
     "output_type": "stream",
     "text": [
      "2\n"
     ]
    }
   ],
   "source": [
    "#string count() used to count the number or occurrences in substring.\n",
    "var = \"Hey !! I'm saurav.\"\n",
    "string  = var.count(\"a\")\n",
    "print(string)"
   ]
  },
  {
   "cell_type": "markdown",
   "id": "89155b24-4d40-435c-9ca9-063fb4f62d6c",
   "metadata": {},
   "source": [
    "14. How do you check if a string contains only alphabetic characters?"
   ]
  },
  {
   "cell_type": "code",
   "execution_count": 4,
   "id": "daf6f119-b744-4226-96af-10a66b53ed48",
   "metadata": {},
   "outputs": [
    {
     "name": "stdout",
     "output_type": "stream",
     "text": [
      "True\n",
      "False\n"
     ]
    }
   ],
   "source": [
    "#Python String isalpha() method is used to check whether all characters in the String are an alphabet.\n",
    "string = \"HelloWorld\"\n",
    "var=string.isalpha()\n",
    "print(var)\n",
    "\n",
    "#using whitespace\n",
    "string = \"Hello World\"\n",
    "var=string.isalpha()\n",
    "print(var)\n"
   ]
  },
  {
   "cell_type": "markdown",
   "id": "2437e2ab-d44d-4c62-a745-fa09773c6d44",
   "metadata": {},
   "source": [
    "15. How do you check if a string contains only numeric characters?"
   ]
  },
  {
   "cell_type": "code",
   "execution_count": 9,
   "id": "d4e82a96-253e-4e81-a824-fdcf50421f2e",
   "metadata": {},
   "outputs": [
    {
     "name": "stdout",
     "output_type": "stream",
     "text": [
      "True\n"
     ]
    }
   ],
   "source": [
    "#python string isdigit() method is used to check whether all characters in the string are numeric\n",
    "var1=\"8544074809\"\n",
    "string=var1.isdigit()\n",
    "print(string)"
   ]
  },
  {
   "cell_type": "markdown",
   "id": "e496e482-201e-43a7-b30e-9b9db2e0fdb0",
   "metadata": {},
   "source": [
    "16. How can you check if a string is a palindrome?"
   ]
  },
  {
   "cell_type": "code",
   "execution_count": 13,
   "id": "82c041d4-a95b-4204-bf7a-7a539eaa05f0",
   "metadata": {},
   "outputs": [
    {
     "name": "stdout",
     "output_type": "stream",
     "text": [
      "The string is a palindrome.\n"
     ]
    }
   ],
   "source": [
    "string = \"radar\"\n",
    "if string == string[::-1]:\n",
    "    print(\"The string is a palindrome.\")\n",
    "else:\n",
    "    print(\"The string is not a palindrome.\")\n",
    "\n"
   ]
  },
  {
   "cell_type": "markdown",
   "id": "e0f7eb99-e769-49e9-b021-3aaefd9aec31",
   "metadata": {},
   "source": [
    "17. How can you reverse a string in Python?"
   ]
  },
  {
   "cell_type": "code",
   "execution_count": 19,
   "id": "dfdafc71-84a4-46e9-8288-a36e0cda7913",
   "metadata": {},
   "outputs": [
    {
     "name": "stdout",
     "output_type": "stream",
     "text": [
      "olleh\n"
     ]
    }
   ],
   "source": [
    "string = \"hello\"\n",
    "var1 = string[::-1]\n",
    "print(var1) \n"
   ]
  },
  {
   "cell_type": "markdown",
   "id": "7a22aec3-e361-4b17-9551-e8642ee3006f",
   "metadata": {},
   "source": [
    "18. How do you format a string with placeholders for variable values?"
   ]
  },
  {
   "cell_type": "code",
   "execution_count": 20,
   "id": "e3f89d3f-0ce0-4c34-9951-cb0be0994595",
   "metadata": {},
   "outputs": [
    {
     "name": "stdout",
     "output_type": "stream",
     "text": [
      "My name is saurav kumar and I am 20 years old.\n"
     ]
    }
   ],
   "source": [
    "#f-Strings (Formatted String Literals) using for placeholder variable in string\n",
    "name = \"saurav kumar\"\n",
    "age = 20\n",
    "formatted_string = f\"My name is {name} and I am {age} years old.\"\n",
    "print(formatted_string)\n"
   ]
  },
  {
   "cell_type": "markdown",
   "id": "47bb55cd-3ffd-4a80-a75a-b4cad9b1b7c7",
   "metadata": {},
   "source": [
    "19. How do you access a substring of a string using slicing?"
   ]
  },
  {
   "cell_type": "code",
   "execution_count": 23,
   "id": "8aad2b21-b868-4ba6-a193-9b5033f3194b",
   "metadata": {},
   "outputs": [
    {
     "name": "stdout",
     "output_type": "stream",
     "text": [
      "llo, \n"
     ]
    }
   ],
   "source": [
    "#slicing = string[start:end:step]\n",
    "\n",
    "string = \"Hello, World!\"\n",
    "name = string[2:7:1]\n",
    "print(name)\n",
    "\n"
   ]
  },
  {
   "cell_type": "markdown",
   "id": "922afbb7-c297-4696-bb25-8ffccc63cd32",
   "metadata": {},
   "source": [
    "20. How can you remove specific characters from a string in Python?"
   ]
  },
  {
   "cell_type": "code",
   "execution_count": 29,
   "id": "0db9cc8d-3c21-4477-8dfb-7de3c12a4ca5",
   "metadata": {},
   "outputs": [
    {
     "name": "stdout",
     "output_type": "stream",
     "text": [
      "HEY  saurav kumar\n"
     ]
    }
   ],
   "source": [
    "# replace using for remove specific characters in python\n",
    "string= \"HEY !! saurav kumar\"\n",
    "var=string.replace(\"!\", \"\")\n",
    "print(var)"
   ]
  },
  {
   "cell_type": "code",
   "execution_count": null,
   "id": "fd637eca-037b-4459-8cfe-fcae53cf1208",
   "metadata": {},
   "outputs": [],
   "source": []
  }
 ],
 "metadata": {
  "kernelspec": {
   "display_name": "Python 3 (ipykernel)",
   "language": "python",
   "name": "python3"
  },
  "language_info": {
   "codemirror_mode": {
    "name": "ipython",
    "version": 3
   },
   "file_extension": ".py",
   "mimetype": "text/x-python",
   "name": "python",
   "nbconvert_exporter": "python",
   "pygments_lexer": "ipython3",
   "version": "3.12.4"
  }
 },
 "nbformat": 4,
 "nbformat_minor": 5
}
