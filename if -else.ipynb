{
 "cells": [
  {
   "cell_type": "markdown",
   "id": "ca105cf4-0ece-4143-9358-79ddb5d796d0",
   "metadata": {},
   "source": [
    "Q1. Write a program to calculate the electricity bill\n",
    "using only if statement? (accept number of unit from user)\n",
    "according to the following criteria:\n",
    "\n",
    "Unit Price\n",
    "First 100 units no charge\n",
    "Next 100 units Rs 5 per unit\n",
    "After 200 units Rs 10 per unit\n"
   ]
  },
  {
   "cell_type": "code",
   "execution_count": 3,
   "id": "8bcb73d8-cc59-4391-8718-aebb77aa9610",
   "metadata": {},
   "outputs": [
    {
     "name": "stdin",
     "output_type": "stream",
     "text": [
      "Enter the number of unit consume: 200\n"
     ]
    },
    {
     "name": "stdout",
     "output_type": "stream",
     "text": [
      "The total bill amount is: 500\n"
     ]
    }
   ],
   "source": [
    "units = int(input(\"Enter the number of unit consume:\"))\n",
    "\n",
    "#initialize the bill amount..\n",
    "bill_amount = 0\n",
    "\n",
    "#calculate the bill on the base of unit consume\n",
    "if units <= 100:\n",
    "    bill_amount = 0\n",
    "elif units <= 200:\n",
    "    bill_amount = (units-100) * 5\n",
    "else:\n",
    "    bill_amount = (100 * 5) + ((units-200)*10)\n",
    "print(\"The total bill amount is:\", bill_amount)"
   ]
  },
  {
   "cell_type": "markdown",
   "id": "9afcdb5b-29a3-4179-96a1-18dd0bff4c7d",
   "metadata": {},
   "source": [
    "Q2. Write a program to accept percentage from the user and display\n",
    "the grade according to the following criteria:\n",
    "\n",
    "Marks Grade\n",
    "> 90 A\n",
    "> 80 and <= 90 B\n",
    ">= 60 and <= 80 C\n",
    "below 60 D"
   ]
  },
  {
   "cell_type": "code",
   "execution_count": 4,
   "id": "3724023a-357d-436c-8a7d-64bde388202e",
   "metadata": {},
   "outputs": [
    {
     "name": "stdin",
     "output_type": "stream",
     "text": [
      "Enter Your Name: suaravkumar\n",
      "Enter the marks_obtained: 70\n"
     ]
    },
    {
     "name": "stdout",
     "output_type": "stream",
     "text": [
      "Name :  suaravkumar\n",
      "Marks Obtained :  70\n",
      "Grade :  C\n"
     ]
    }
   ],
   "source": [
    "student_name = input(\"Enter Your Name:\")\n",
    "marks_obtained = int(input(\"Enter the marks_obtained:\"))\n",
    "Grade = 0\n",
    "\n",
    "if marks_obtained > 90:\n",
    "    Grade = \"A\"\n",
    "elif marks_obtained > 80 and marks_obtained <= 90 :\n",
    "    Grade = \"B\"\n",
    "elif marks_obtained >= 60 and marks_obtained <=80:\n",
    "    Grade = \"C\"\n",
    "elif marks_obtained >=40 and marks_obtained <60:\n",
    "    Grade = \"D\"\n",
    "else:\n",
    "    Grade = \"Fail\"\n",
    "print(\"Name : \", student_name)\n",
    "print(\"Marks Obtained : \", marks_obtained)\n",
    "print(\"Grade : \",Grade)"
   ]
  },
  {
   "cell_type": "markdown",
   "id": "b7409a4a-36b0-4b02-8a17-193590fc8d49",
   "metadata": {},
   "source": [
    "Q3. Accept the age of 4 people and display the youngest one?"
   ]
  },
  {
   "cell_type": "code",
   "execution_count": 8,
   "id": "ed31fe5e-f1b3-4e29-ada7-be30c070dac9",
   "metadata": {},
   "outputs": [
    {
     "name": "stdin",
     "output_type": "stream",
     "text": [
      "Enter the age of the first person:  66\n",
      "Enter the age of the second person:  56\n",
      "Enter the age of the third person:  44\n",
      "Enter the age of the fourth person:  37\n"
     ]
    },
    {
     "name": "stdout",
     "output_type": "stream",
     "text": [
      "The youngest age is: 37\n"
     ]
    }
   ],
   "source": [
    "# Accept ages of four people\n",
    "age1 = int(input(\"Enter the age of the first person: \"))\n",
    "age2 = int(input(\"Enter the age of the second person: \"))\n",
    "age3 = int(input(\"Enter the age of the third person: \"))\n",
    "age4 = int(input(\"Enter the age of the fourth person: \"))\n",
    "\n",
    "# Determine the youngest age using if-else statements\n",
    "if age1 <= age2 and age1 <= age3 and age1 <= age4:\n",
    "    youngest_age = age1\n",
    "elif age2 <= age1 and age2 <= age3 and age2 <= age4:\n",
    "    youngest_age = age2\n",
    "elif age3 <= age1 and age3 <= age2 and age3 <= age4:\n",
    "    youngest_age = age3\n",
    "else:\n",
    "    youngest_age = age4\n",
    "\n",
    "# Display the youngest age\n",
    "print(\"The youngest age is:\",youngest_age)\n"
   ]
  },
  {
   "cell_type": "markdown",
   "id": "da41805b-8eee-48d5-a057-0d39acb4a12f",
   "metadata": {},
   "source": [
    "Q4. A company decided to give bonus to employee\n",
    "according to following criteria:\n",
    "\n",
    "Time period of Service Bonus\n",
    "\n",
    "More than 10 years     10%\n",
    "\n",
    ">=6 and <=10            8%\n",
    "\n",
    "Less than 6 years       5%\n",
    "\n",
    "Ask user for their salary and years of service and print the\n",
    "net bonus amount?"
   ]
  },
  {
   "cell_type": "code",
   "execution_count": 9,
   "id": "6e169f73-fce0-4ff4-83ea-b6de1be23330",
   "metadata": {},
   "outputs": [
    {
     "name": "stdin",
     "output_type": "stream",
     "text": [
      "Enter your name : saurav \n",
      "Enter your current salary :  60000\n",
      "Enter your employee period :  30\n"
     ]
    },
    {
     "name": "stdout",
     "output_type": "stream",
     "text": [
      "Employee Name:  saurav \n",
      "Employee Salary:  60000\n",
      "Employee TimePeriod :  30\n",
      "Employee Bonus:  6000.0\n"
     ]
    }
   ],
   "source": [
    "employeeName = input(\"Enter your name :\")\n",
    "employeeSalary = int(input(\"Enter your current salary : \"))\n",
    "timePeriod  = int(input(\"Enter your employee period : \"))\n",
    "netBounus = 0\n",
    "\n",
    "if timePeriod >= 10:\n",
    "    netBounus = (employeeSalary * 10) /  100\n",
    "elif timePeriod >= 6 and timePeriod <= 10 :\n",
    "    netBounus = (employeeSalary * 8)/100\n",
    "elif timePeriod < 6:\n",
    "    netBounus = (employeeSalary  * 5)/100\n",
    "else:\n",
    "    netBounus = (employeeSalary * 3)/100\n",
    "print(\"Employee Name: \", employeeName)\n",
    "print(\"Employee Salary: \", employeeSalary)\n",
    "print(\"Employee TimePeriod : \", timePeriod)\n",
    "print(\"Employee Bonus: \", netBounus)"
   ]
  },
  {
   "cell_type": "markdown",
   "id": "d1901645-94c7-4443-bc36-21177180bf92",
   "metadata": {},
   "source": [
    "Q5. Accept three numbers from the user and\n",
    "display the second largest number?"
   ]
  },
  {
   "cell_type": "code",
   "execution_count": 10,
   "id": "e5611385-137a-4e73-a2a9-ffa13613d070",
   "metadata": {},
   "outputs": [
    {
     "name": "stdin",
     "output_type": "stream",
     "text": [
      "Enter your first number : 7\n",
      "Enter your second number : 8\n",
      "Enter your third number : 9\n"
     ]
    },
    {
     "name": "stdout",
     "output_type": "stream",
     "text": [
      "The second largest number is: 8\n"
     ]
    }
   ],
   "source": [
    "firstNumber = int(input(\"Enter your first number :\"))\n",
    "secondNumber = int(input(\"Enter your second number :\"))\n",
    "thirdNumber = int(input(\"Enter your third number :\"))\n",
    "\n",
    "# Determine the second largest number using if-else statements\n",
    "if (firstNumber > secondNumber):\n",
    "    if (firstNumber > thirdNumber):\n",
    "        if (secondNumber > thirdNumber):\n",
    "            second_largest = secondNumber\n",
    "        else:\n",
    "            second_largest = thirdNumber\n",
    "    else:\n",
    "        second_largest = firstNumber\n",
    "else:\n",
    "    if (secondNumber > thirdNumber):\n",
    "        if (firstNumber > thirdNumber):\n",
    "            second_largest = firstNumber\n",
    "        else:\n",
    "            second_largest = thirdNumber\n",
    "    else:\n",
    "        second_largest = secondNumber\n",
    "\n",
    "print(\"The second largest number is:\", second_largest)\n"
   ]
  },
  {
   "cell_type": "markdown",
   "id": "489c4314-d955-44d4-898c-18f5fa0738a9",
   "metadata": {},
   "source": [
    "Q6. Accept the marked price from the user and calculate\n",
    "the Net amount as (Marked Price – Discount) to pay\n",
    "according to following criteria:\n",
    "\n",
    "Marked Price Discount\n",
    ">10000 20%\n",
    ">7000 and <=10000 15%\n",
    "<=7000 10%"
   ]
  },
  {
   "cell_type": "code",
   "execution_count": 11,
   "id": "d621eb3e-e3b2-43f5-af7c-659a0a0b1211",
   "metadata": {},
   "outputs": [
    {
     "name": "stdin",
     "output_type": "stream",
     "text": [
      "Enter the market price :  5000\n"
     ]
    },
    {
     "name": "stdout",
     "output_type": "stream",
     "text": [
      "The net amount to pay is :  4500.0\n"
     ]
    }
   ],
   "source": [
    "marked_price = float(input(\"Enter the market price : \"))\n",
    "\n",
    "discount = 0\n",
    "\n",
    "if marked_price > 10000:\n",
    "    discount = 0.20\n",
    "elif marked_price > 7000 and marked_price <= 10000:\n",
    "    discount = 0.15\n",
    "else:\n",
    "    discount = 0.10\n",
    "    \n",
    "discount_amount = marked_price * discount\n",
    "\n",
    "net_amount = marked_price - discount_amount\n",
    "\n",
    "print(\"The net amount to pay is : \", net_amount)"
   ]
  },
  {
   "cell_type": "markdown",
   "id": "57fe9ebb-58e9-47ea-9a8d-df3695631891",
   "metadata": {},
   "source": [
    "Q7. Accept the marks of English, Math and Science,\n",
    "Social Studies Subject and display the stream allotted\n",
    "according to following:\n",
    "\n",
    "All Subjects more than 80 marks — Science Stream\n",
    "\n",
    "English >80 and Math, Science above 50 — Commerce Stream\n",
    "\n",
    "English > 80 and social studies > 80 — Humanities"
   ]
  },
  {
   "cell_type": "code",
   "execution_count": 12,
   "id": "1300b6e3-dbcd-41e9-ac71-bc1b3f0a345a",
   "metadata": {},
   "outputs": [
    {
     "name": "stdin",
     "output_type": "stream",
     "text": [
      "Enter your name :  sauravkr\n",
      "Enter marks in English:  90\n",
      "Enter marks in Math:  70\n",
      "Enter marks in Science:  85\n",
      "Enter marks in Social Studies:  66\n"
     ]
    },
    {
     "name": "stdout",
     "output_type": "stream",
     "text": [
      "The stream based on your marks is :  Commerce Stream\n"
     ]
    }
   ],
   "source": [
    "\n",
    "studentName = input(\"Enter your name : \")\n",
    "english = float(input(\"Enter marks in English: \"))\n",
    "math = float(input(\"Enter marks in Math: \"))\n",
    "science = float(input(\"Enter marks in Science: \"))\n",
    "social_studies = float(input(\"Enter marks in Social Studies: \"))\n",
    "\n",
    "# Determine the stream based on the marks\n",
    "if english > 80 and math > 80 and science > 80 and social_studies > 80:\n",
    "    stream = \"Science Stream\"\n",
    "elif english > 80 and math > 50 and science > 50:\n",
    "    stream = \"Commerce Stream\"\n",
    "elif english > 80 and social_studies > 80:\n",
    "    stream = \"Humanities\"\n",
    "else:\n",
    "    stream = \"No stream meets the criteria\"\n",
    "\n",
    "print(\"The stream based on your marks is : \", stream)\n",
    "    "
   ]
  },
  {
   "cell_type": "markdown",
   "id": "fbd88d7a-add2-4b92-8063-0e442fcfe2a1",
   "metadata": {},
   "source": [
    "Q8. Write a program to display \"Hello\" if a number entered\n",
    "by user is a multiple of five, otherwise print \"Bye\"?"
   ]
  },
  {
   "cell_type": "code",
   "execution_count": 17,
   "id": "65a07b92-26a9-4bdb-b5ce-277894e611ee",
   "metadata": {},
   "outputs": [
    {
     "name": "stdin",
     "output_type": "stream",
     "text": [
      "Enter the number :  99\n"
     ]
    },
    {
     "name": "stdout",
     "output_type": "stream",
     "text": [
      "Bye!!\n"
     ]
    }
   ],
   "source": [
    "\n",
    "number = int(input(\"Enter the number : \"))\n",
    "\n",
    "if (number % 5) == 0:\n",
    "    print(\"hello\")\n",
    "else:\n",
    "    print(\"Bye!!\")"
   ]
  },
  {
   "cell_type": "markdown",
   "id": "26612bc2-d476-412c-ba61-eed49b5f1bbd",
   "metadata": {},
   "source": [
    "Q9. Write a program to check whether the last digit of a number\n",
    "(entered by user) is divisible by 3 or not?"
   ]
  },
  {
   "cell_type": "code",
   "execution_count": 18,
   "id": "3f76bf70-41aa-482a-8ec9-1e4aec1e0c18",
   "metadata": {},
   "outputs": [
    {
     "name": "stdin",
     "output_type": "stream",
     "text": [
      "Enter the number :  67\n"
     ]
    },
    {
     "name": "stdout",
     "output_type": "stream",
     "text": [
      "The last digit of the number 67.0 is 7.0 and it is not divisible by 3.\n"
     ]
    }
   ],
   "source": [
    "number = float(input(\"Enter the number : \"))\n",
    "\n",
    "last_digit = number % 10\n",
    "\n",
    "if last_digit % 3 == 0:\n",
    "    print(f\"The last digit of the number {number} is {last_digit} and it is divisible by 3.\")\n",
    "else:\n",
    "    print(f\"The last digit of the number {number} is {last_digit} and it is not divisible by 3.\")"
   ]
  },
  {
   "cell_type": "markdown",
   "id": "0bbae072-3b22-420d-9dda-6ae3fef391d4",
   "metadata": {},
   "source": [
    "Q10. Write a program to check whether a number entered\n",
    "is three-digit number or not?"
   ]
  },
  {
   "cell_type": "code",
   "execution_count": 20,
   "id": "ca5368e1-bec6-4dd7-884e-23206353a717",
   "metadata": {},
   "outputs": [
    {
     "name": "stdin",
     "output_type": "stream",
     "text": [
      "Enter the number :  999\n"
     ]
    },
    {
     "name": "stdout",
     "output_type": "stream",
     "text": [
      "The number 999 is a three-digit number.\n"
     ]
    }
   ],
   "source": [
    "\n",
    "number = int(input(\"Enter the number : \"))\n",
    "\n",
    "if  100 <= abs(number)  <= 999:\n",
    "    print(f\"The number {number} is a three-digit number.\")\n",
    "else:\n",
    "    print(f\"The number {number} is not three-digit number.\")"
   ]
  },
  {
   "cell_type": "code",
   "execution_count": null,
   "id": "f0e7c56f-1212-460a-a8a7-a133c6e470e2",
   "metadata": {},
   "outputs": [],
   "source": []
  }
 ],
 "metadata": {
  "kernelspec": {
   "display_name": "Python 3 (ipykernel)",
   "language": "python",
   "name": "python3"
  },
  "language_info": {
   "codemirror_mode": {
    "name": "ipython",
    "version": 3
   },
   "file_extension": ".py",
   "mimetype": "text/x-python",
   "name": "python",
   "nbconvert_exporter": "python",
   "pygments_lexer": "ipython3",
   "version": "3.12.4"
  }
 },
 "nbformat": 4,
 "nbformat_minor": 5
}
